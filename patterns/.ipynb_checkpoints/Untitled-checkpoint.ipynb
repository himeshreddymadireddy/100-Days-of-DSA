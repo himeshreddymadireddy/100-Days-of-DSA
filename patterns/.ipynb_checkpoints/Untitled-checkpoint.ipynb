{
 "cells": [
  {
   "cell_type": "markdown",
   "id": "2d837a9a",
   "metadata": {},
   "source": [
    "## PATTERNS\n",
    "print1\n",
    "<pre>****\n",
    "****\n",
    "****\n",
    "****</pre>\n",
    "\n",
    "print2\n",
    "<pre>\n",
    "* \n",
    "* *\n",
    "* * *\n",
    "* * * * \n",
    "* * * * *\n",
    "</pre>\n",
    "\n",
    "print 3\n",
    "<pre>\n",
    "1\n",
    "1 2\n",
    "1 2 3 \n",
    "1 2 3 4\n",
    "1 2 3 4 5\n",
    "</pre>\n",
    "\n",
    "print 4\n",
    "<pre>\n",
    "1 \n",
    "2 2 \n",
    "3 3 3 \n",
    "4 4 4 4 \n",
    "5 5 5 5 5 \n",
    "</pre>\n",
    "\n",
    "print 5\n",
    "<pre>\n",
    "* * * * \n",
    "* * * \n",
    "* * \n",
    "* \n",
    "</pre>\n",
    "\n",
    "print 6\n",
    "<pre>\n",
    "1 2 3 4 5\n",
    "1 2 3 4\n",
    "1 2 3\n",
    "1 2\n",
    "1\n",
    "</pre>"
   ]
  },
  {
   "cell_type": "code",
   "execution_count": 16,
   "id": "eaa43138",
   "metadata": {},
   "outputs": [],
   "source": [
    "## >> In the outer loop that is for i in range(4) count no of lines of pattern\n",
    "## >> In the inner loop count focus on the columns and connect them somehow to rows\n",
    "## >> print(\"*\") inside the inner for loop\n",
    "## >> obeserve symmetry [Optional]"
   ]
  },
  {
   "cell_type": "code",
   "execution_count": 48,
   "id": "bb692684",
   "metadata": {},
   "outputs": [
    {
     "name": "stdout",
     "output_type": "stream",
     "text": [
      "enter a number4\n",
      "* * * * \n",
      "* * * \n",
      "* * \n",
      "* \n"
     ]
    }
   ],
   "source": [
    "def print_1(n):\n",
    "    for i in range(n):\n",
    "        for j in range(n):\n",
    "            print(\"* \",end=\"\")\n",
    "        print()\n",
    "        \n",
    "def print_2(n):\n",
    "    for i in range(5):\n",
    "        for j in range(i):\n",
    "            print(\"*\",end=\"\")\n",
    "        print()\n",
    "        \n",
    "#print_2(1)\n",
    "def print_3(n):\n",
    "    for i in range(6):\n",
    "        for j in range(1,i+1):\n",
    "            print(f\"{j} \",end=\"\")\n",
    "        print(\"\")\n",
    "\n",
    "##print_3(n)\n",
    "\n",
    "def print_4(n):\n",
    "    for i in range(6):\n",
    "        for j in range(1,i+1):\n",
    "            print(f\"{i} \",end=\"\")\n",
    "        print(\"\")\n",
    "\n",
    "#print_4(n)\n",
    "\n",
    "def print_5(n):\n",
    "    for i in range(1,n+1):\n",
    "        for j in range(0,n-i+1):\n",
    "            print(\"* \", end=\"\")\n",
    "        print(\"\")\n",
    "n=int(input(\"enter a number\"))\n",
    "print_5(n)"
   ]
  },
  {
   "cell_type": "code",
   "execution_count": null,
   "id": "38cfc85a",
   "metadata": {},
   "outputs": [],
   "source": []
  },
  {
   "cell_type": "code",
   "execution_count": null,
   "id": "ba7857e4",
   "metadata": {},
   "outputs": [],
   "source": []
  }
 ],
 "metadata": {
  "kernelspec": {
   "display_name": "Python 3 (ipykernel)",
   "language": "python",
   "name": "python3"
  },
  "language_info": {
   "codemirror_mode": {
    "name": "ipython",
    "version": 3
   },
   "file_extension": ".py",
   "mimetype": "text/x-python",
   "name": "python",
   "nbconvert_exporter": "python",
   "pygments_lexer": "ipython3",
   "version": "3.11.8"
  }
 },
 "nbformat": 4,
 "nbformat_minor": 5
}
