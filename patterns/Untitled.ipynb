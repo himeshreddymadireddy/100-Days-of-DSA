{
 "cells": [
  {
   "cell_type": "markdown",
   "id": "2d837a9a",
   "metadata": {},
   "source": [
    "## PATTERNS\n",
    "print1\n",
    "<pre>****\n",
    "****\n",
    "****\n",
    "****</pre>\n",
    "\n",
    "print2\n",
    "<pre>\n",
    "* \n",
    "* *\n",
    "* * *\n",
    "* * * * \n",
    "* * * * *\n",
    "</pre>\n",
    "\n",
    "print 3\n",
    "<pre>\n",
    "1\n",
    "1 2\n",
    "1 2 3 \n",
    "1 2 3 4\n",
    "1 2 3 4 5\n",
    "</pre>\n",
    "\n",
    "print 4\n",
    "<pre>\n",
    "1 \n",
    "2 2 \n",
    "3 3 3 \n",
    "4 4 4 4 \n",
    "5 5 5 5 5 \n",
    "</pre>\n",
    "\n",
    "print 5\n",
    "<pre>\n",
    "* * * * \n",
    "* * * \n",
    "* * \n",
    "* \n",
    "</pre>\n",
    "\n",
    "print 6\n",
    "<pre>\n",
    "1 2 3 4 5\n",
    "1 2 3 4\n",
    "1 2 3\n",
    "1 2\n",
    "1\n",
    "</pre>"
   ]
  },
  {
   "cell_type": "code",
   "execution_count": 16,
   "id": "eaa43138",
   "metadata": {},
   "outputs": [],
   "source": [
    "## >> In the outer loop that is for i in range(4) count no of lines of pattern\n",
    "## >> In the inner loop count focus on the columns and connect them somehow to rows\n",
    "## >> print(\"*\") inside the inner for loop\n",
    "## >> obeserve symmetry [Optional]"
   ]
  },
  {
   "cell_type": "code",
   "execution_count": 51,
   "id": "bb692684",
   "metadata": {},
   "outputs": [
    {
     "name": "stdout",
     "output_type": "stream",
     "text": [
      "enter a number5\n",
      "12345\n",
      "1234\n",
      "123\n",
      "12\n",
      "1\n"
     ]
    }
   ],
   "source": [
    "def print_1(n):\n",
    "    for i in range(n):\n",
    "        for j in range(n):\n",
    "            print(\"* \",end=\"\")\n",
    "        print()\n",
    "        \n",
    "def print_2(n):\n",
    "    for i in range(5):\n",
    "        for j in range(i):\n",
    "            print(\"*\",end=\"\")\n",
    "        print()\n",
    "        \n",
    "#print_2(1)\n",
    "def print_3(n):\n",
    "    for i in range(6):\n",
    "        for j in range(1,i+1):\n",
    "            print(f\"{j} \",end=\"\")\n",
    "        print(\"\")\n",
    "\n",
    "##print_3(n)\n",
    "\n",
    "def print_4(n):\n",
    "    for i in range(6):\n",
    "        for j in range(1,i+1):\n",
    "            print(f\"{i} \",end=\"\")\n",
    "        print(\"\")\n",
    "\n",
    "#print_4(n)\n",
    "\n",
    "def print_5(n):\n",
    "    for i in range(1,n+1):\n",
    "        for j in range(0,n-i+1):\n",
    "            print(\"*\", end=\"\")\n",
    "        print(\"\")\n",
    "#print_5(n)\n",
    "\n",
    "def print_6(n):\n",
    "    for i in range(1,n+1):\n",
    "        for j in range(1,(n-i+1)+1):\n",
    "            print(j, end=\"\")\n",
    "        print(\"\")\n",
    "n=int(input(\"enter a number\"))\n",
    "print_6(n)"
   ]
  },
  {
   "cell_type": "code",
   "execution_count": 62,
   "id": "38cfc85a",
   "metadata": {},
   "outputs": [
    {
     "name": "stdout",
     "output_type": "stream",
     "text": [
      "ABCDEFGHIJKLMNOPQRSTUVWXYZ\n"
     ]
    }
   ],
   "source": [
    "import string\n",
    "print(string.ascii_uppercase,sep=\" \")  # Output: abcdefghijklmnopqrstuvwxyz"
   ]
  },
  {
   "cell_type": "code",
   "execution_count": 66,
   "id": "ba7857e4",
   "metadata": {},
   "outputs": [
    {
     "name": "stdout",
     "output_type": "stream",
     "text": [
      "abcdefghijklmnopqrstuvwxyz"
     ]
    }
   ],
   "source": [
    "for i in range(97, 123):  # ASCII values of 'a' to 'z'\n",
    "    print(chr(i), sep=\"-\",end=\"\")  # Prints abcdefghijklmnopqrstuvwxyz\n"
   ]
  },
  {
   "cell_type": "code",
   "execution_count": null,
   "id": "fe04affc",
   "metadata": {},
   "outputs": [],
   "source": []
  }
 ],
 "metadata": {
  "kernelspec": {
   "display_name": "Python 3 (ipykernel)",
   "language": "python",
   "name": "python3"
  },
  "language_info": {
   "codemirror_mode": {
    "name": "ipython",
    "version": 3
   },
   "file_extension": ".py",
   "mimetype": "text/x-python",
   "name": "python",
   "nbconvert_exporter": "python",
   "pygments_lexer": "ipython3",
   "version": "3.11.8"
  }
 },
 "nbformat": 4,
 "nbformat_minor": 5
}
